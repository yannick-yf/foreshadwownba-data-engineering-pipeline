{
 "cells": [
  {
   "cell_type": "markdown",
   "metadata": {},
   "source": [
    "# Model: Predict if the Best nba team will win a given game"
   ]
  },
  {
   "cell_type": "markdown",
   "metadata": {},
   "source": [
    "Aim of this modle is to predict if the best team is going to win or not the game\n",
    "The best team is the team with the best win ratio."
   ]
  },
  {
   "cell_type": "markdown",
   "metadata": {},
   "source": [
    "## Library import "
   ]
  },
  {
   "cell_type": "code",
   "execution_count": 1,
   "metadata": {},
   "outputs": [],
   "source": [
    "from urllib.request import urlopen\n",
    "from bs4 import BeautifulSoup\n",
    "import pandas as pd\n",
    "import requests\n",
    "\n",
    "pd.set_option(\"display.max_rows\", None)\n",
    "pd.set_option(\"display.max_columns\", None)"
   ]
  },
  {
   "cell_type": "markdown",
   "metadata": {},
   "source": [
    "## Team Names for one season"
   ]
  },
  {
   "cell_type": "code",
   "execution_count": 6,
   "metadata": {},
   "outputs": [
    {
     "data": {
      "text/plain": [
       "'/Users/yannickflores/Perso Project/foreshadownba/foreshadwownba-data-engineering-pipeline'"
      ]
     },
     "execution_count": 6,
     "metadata": {},
     "output_type": "execute_result"
    }
   ],
   "source": [
    "import os\n",
    "import datetime\n",
    "os.getcwd()"
   ]
  },
  {
   "cell_type": "code",
   "execution_count": 8,
   "metadata": {},
   "outputs": [
    {
     "data": {
      "text/plain": [
       "'2022-01-20'"
      ]
     },
     "execution_count": 8,
     "metadata": {},
     "output_type": "execute_result"
    }
   ],
   "source": [
    "datetime.datetime.today().strftime('%Y-%m-%d')"
   ]
  },
  {
   "cell_type": "code",
   "execution_count": 5,
   "metadata": {},
   "outputs": [
    {
     "data": {
      "text/html": [
       "<div>\n",
       "<style scoped>\n",
       "    .dataframe tbody tr th:only-of-type {\n",
       "        vertical-align: middle;\n",
       "    }\n",
       "\n",
       "    .dataframe tbody tr th {\n",
       "        vertical-align: top;\n",
       "    }\n",
       "\n",
       "    .dataframe thead th {\n",
       "        text-align: right;\n",
       "    }\n",
       "</style>\n",
       "<table border=\"1\" class=\"dataframe\">\n",
       "  <thead>\n",
       "    <tr style=\"text-align: right;\">\n",
       "      <th></th>\n",
       "      <th>id_season</th>\n",
       "      <th>tm</th>\n",
       "      <th>game_date</th>\n",
       "      <th>time_start</th>\n",
       "      <th>extdom</th>\n",
       "      <th>opponent</th>\n",
       "      <th>w_l</th>\n",
       "      <th>overtime</th>\n",
       "      <th>pts_tm</th>\n",
       "      <th>pts_opp</th>\n",
       "      <th>w_tot</th>\n",
       "      <th>l_tot</th>\n",
       "      <th>streak_w_l</th>\n",
       "    </tr>\n",
       "  </thead>\n",
       "  <tbody>\n",
       "    <tr>\n",
       "      <th>0</th>\n",
       "      <td>2001</td>\n",
       "      <td>ATL</td>\n",
       "      <td>2000-11-02</td>\n",
       "      <td>7:30p</td>\n",
       "      <td>@</td>\n",
       "      <td>New York Knicks</td>\n",
       "      <td>L</td>\n",
       "      <td>NaN</td>\n",
       "      <td>69</td>\n",
       "      <td>94</td>\n",
       "      <td>0</td>\n",
       "      <td>2</td>\n",
       "      <td>L 2</td>\n",
       "    </tr>\n",
       "    <tr>\n",
       "      <th>1</th>\n",
       "      <td>2001</td>\n",
       "      <td>ATL</td>\n",
       "      <td>2000-11-04</td>\n",
       "      <td>7:30p</td>\n",
       "      <td>NaN</td>\n",
       "      <td>Orlando Magic</td>\n",
       "      <td>L</td>\n",
       "      <td>NaN</td>\n",
       "      <td>104</td>\n",
       "      <td>107</td>\n",
       "      <td>0</td>\n",
       "      <td>3</td>\n",
       "      <td>L 3</td>\n",
       "    </tr>\n",
       "    <tr>\n",
       "      <th>2</th>\n",
       "      <td>2001</td>\n",
       "      <td>ATL</td>\n",
       "      <td>2000-11-06</td>\n",
       "      <td>10:00p</td>\n",
       "      <td>@</td>\n",
       "      <td>Vancouver Grizzlies</td>\n",
       "      <td>L</td>\n",
       "      <td>NaN</td>\n",
       "      <td>87</td>\n",
       "      <td>97</td>\n",
       "      <td>0</td>\n",
       "      <td>4</td>\n",
       "      <td>L 4</td>\n",
       "    </tr>\n",
       "    <tr>\n",
       "      <th>3</th>\n",
       "      <td>2001</td>\n",
       "      <td>ATL</td>\n",
       "      <td>2000-11-07</td>\n",
       "      <td>10:00p</td>\n",
       "      <td>@</td>\n",
       "      <td>Portland Trail Blazers</td>\n",
       "      <td>L</td>\n",
       "      <td>NaN</td>\n",
       "      <td>88</td>\n",
       "      <td>97</td>\n",
       "      <td>0</td>\n",
       "      <td>5</td>\n",
       "      <td>L 5</td>\n",
       "    </tr>\n",
       "    <tr>\n",
       "      <th>4</th>\n",
       "      <td>2001</td>\n",
       "      <td>ATL</td>\n",
       "      <td>2000-11-09</td>\n",
       "      <td>9:00p</td>\n",
       "      <td>@</td>\n",
       "      <td>Phoenix Suns</td>\n",
       "      <td>L</td>\n",
       "      <td>NaN</td>\n",
       "      <td>79</td>\n",
       "      <td>88</td>\n",
       "      <td>0</td>\n",
       "      <td>6</td>\n",
       "      <td>L 6</td>\n",
       "    </tr>\n",
       "  </tbody>\n",
       "</table>\n",
       "</div>"
      ],
      "text/plain": [
       "   id_season   tm   game_date time_start extdom                opponent w_l  \\\n",
       "0       2001  ATL  2000-11-02      7:30p      @         New York Knicks   L   \n",
       "1       2001  ATL  2000-11-04      7:30p    NaN           Orlando Magic   L   \n",
       "2       2001  ATL  2000-11-06     10:00p      @     Vancouver Grizzlies   L   \n",
       "3       2001  ATL  2000-11-07     10:00p      @  Portland Trail Blazers   L   \n",
       "4       2001  ATL  2000-11-09      9:00p      @            Phoenix Suns   L   \n",
       "\n",
       "  overtime  pts_tm  pts_opp  w_tot  l_tot streak_w_l  \n",
       "0      NaN      69       94      0      2        L 2  \n",
       "1      NaN     104      107      0      3        L 3  \n",
       "2      NaN      87       97      0      4        L 4  \n",
       "3      NaN      88       97      0      5        L 5  \n",
       "4      NaN      79       88      0      6        L 6  "
      ]
     },
     "execution_count": 5,
     "metadata": {},
     "output_type": "execute_result"
    }
   ],
   "source": [
    "test = pd.read_csv('./pipeline_output/backup_dataset/schedules_training_dataset_2022-01-19 17:19:38.098995.csv')\n",
    "test.head()"
   ]
  }
 ],
 "metadata": {
  "interpreter": {
   "hash": "942f8ea44b2a0e3450e67a87845cf1a984f6b362ba0ab335b32c3b28ca45de93"
  },
  "kernelspec": {
   "display_name": "Python 3.7.6 64-bit ('.venv': pipenv)",
   "name": "python3"
  },
  "language_info": {
   "codemirror_mode": {
    "name": "ipython",
    "version": 3
   },
   "file_extension": ".py",
   "mimetype": "text/x-python",
   "name": "python",
   "nbconvert_exporter": "python",
   "pygments_lexer": "ipython3",
   "version": "3.9.6"
  }
 },
 "nbformat": 4,
 "nbformat_minor": 2
}
